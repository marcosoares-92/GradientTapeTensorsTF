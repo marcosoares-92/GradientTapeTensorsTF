{
    "metadata": {
        "kernelspec": {
            "name": "python3",
            "display_name": "Python 3 (ipykernel)",
            "language": "python"
        },
        "language_info": {
            "name": "python",
            "version": "3.8.10",
            "mimetype": "text/x-python",
            "codemirror_mode": {
                "name": "ipython",
                "version": 3
            },
            "pygments_lexer": "ipython3",
            "nbconvert_exporter": "python",
            "file_extension": ".py"
        },
        "colab": {
            "name": "basictensors.ipynb",
            "provenance": []
        }
    },
    "nbformat_minor": 2,
    "nbformat": 4,
    "cells": [
        {
            "cell_type": "markdown",
            "source": [
                "# Basic Tensors"
            ],
            "metadata": {
                "azdata_cell_guid": "efe90056-6351-4c45-aed0-f9bc4386e495"
            }
        },
        {
            "cell_type": "markdown",
            "source": [
                "In this ungraded lab, you will try some of the basic operations you can perform on tensors."
            ],
            "metadata": {
                "azdata_cell_guid": "d6f4193d-c6e4-4b97-8555-c32d63f8c9b3"
            }
        },
        {
            "cell_type": "markdown",
            "source": [
                "## Imports"
            ],
            "metadata": {
                "azdata_cell_guid": "147c8bbd-4aa7-42b2-a0e2-17b5f22829a5"
            }
        },
        {
            "cell_type": "code",
            "source": [
                "try:\n",
                "    # %tensorflow_version only exists in Colab.\n",
                "    %tensorflow_version 2.x\n",
                "except Exception:\n",
                "    pass\n",
                "\n",
                "import tensorflow as tf\n",
                "import numpy as np"
            ],
            "metadata": {
                "id": "jqev488WJ9-R",
                "azdata_cell_guid": "6d67efbe-1baf-4aa4-a4d7-b030a3bf9a9e",
                "language": "python"
            },
            "outputs": [],
            "execution_count": 1
        },
        {
            "cell_type": "markdown",
            "source": [
                "## Exercise on basic Tensor operations\n",
                "\n",
                "Lets create a single dimension numpy array on which you can perform some operation. You'll make an array of size 25, holding values from 0 to 24."
            ],
            "metadata": {
                "id": "sIIXMZboUw-P",
                "azdata_cell_guid": "07efce2f-86ad-4e23-9f2d-2d6ab72303e2"
            }
        },
        {
            "cell_type": "code",
            "source": [
                "# Create a 1D uint8 NumPy array comprising of first 25 natural numbers\n",
                "x = np.arange(0, 25)\n",
                "# x = np.arange(0, 25, 2) - third argument = step\n",
                "# analogously: range(0,25) creates values from 0 to 24; and range(0,25,2) adds a step = 2\n",
                "# range(x) - 0 to x-1; range(x, y) - x to (y-1); range(x,y,z) - x to (y-1), step = 2\n",
                "# if no z is specified, step = 1 (default)\n",
                "x"
            ],
            "metadata": {
                "id": "GkBZyS8hKNXX",
                "azdata_cell_guid": "10e4678b-281c-4174-9516-4914f29dc62c",
                "language": "python"
            },
            "outputs": [
                {
                    "output_type": "execute_result",
                    "execution_count": 4,
                    "data": {
                        "text/plain": "array([ 0,  1,  2,  3,  4,  5,  6,  7,  8,  9, 10, 11, 12, 13, 14, 15, 16,\n       17, 18, 19, 20, 21, 22, 23, 24])"
                    },
                    "metadata": {}
                }
            ],
            "execution_count": 4
        },
        {
            "cell_type": "markdown",
            "source": [
                "Now that you have your 1-D array, next you'll change that array into a `tensor`. After running the code block below, take a moment to inspect the information of your tensor."
            ],
            "metadata": {
                "azdata_cell_guid": "b0ef6d33-1b6e-4e74-b4dc-d02323011039"
            }
        },
        {
            "cell_type": "code",
            "source": [
                "# Convert NumPy array to Tensor using `tf.constant`\n",
                "x = tf.constant(x)\n",
                "x"
            ],
            "metadata": {
                "id": "MYdVyiSoLPgO",
                "azdata_cell_guid": "2e937387-24b8-4fa6-b466-5151d09d97fb",
                "language": "python"
            },
            "outputs": [
                {
                    "output_type": "execute_result",
                    "execution_count": 7,
                    "data": {
                        "text/plain": "<tf.Tensor: shape=(25,), dtype=int64, numpy=\narray([ 0,  1,  2,  3,  4,  5,  6,  7,  8,  9, 10, 11, 12, 13, 14, 15, 16,\n       17, 18, 19, 20, 21, 22, 23, 24])>"
                    },
                    "metadata": {}
                }
            ],
            "execution_count": 7
        },
        {
            "cell_type": "code",
            "source": [
                "vars(tf.constant)"
            ],
            "metadata": {
                "azdata_cell_guid": "e3d2cb09-e015-44b0-b2c9-d4287eee1818",
                "language": "python"
            },
            "outputs": [
                {
                    "output_type": "execute_result",
                    "execution_count": 9,
                    "data": {
                        "text/plain": "{'_tf_api_names': ('constant',), '_tf_api_names_v1': []}"
                    },
                    "metadata": {}
                }
            ],
            "execution_count": 9
        },
        {
            "cell_type": "markdown",
            "source": [
                "As the first operation to be performed, you'll square (element-wise) all the values in the tensor `x`"
            ],
            "metadata": {
                "azdata_cell_guid": "143cb4d4-cd06-44b3-9963-b2941b17f89c"
            }
        },
        {
            "cell_type": "code",
            "source": [
                "# Square the input tensor x\n",
                "x = tf.square(x)\n",
                "x"
            ],
            "metadata": {
                "id": "W6BTwNJCLjV8",
                "azdata_cell_guid": "59b3aaf2-447c-4cb8-9684-b54738316dba",
                "language": "python"
            },
            "outputs": [
                {
                    "output_type": "execute_result",
                    "execution_count": 10,
                    "data": {
                        "text/plain": "<tf.Tensor: shape=(25,), dtype=int64, numpy=\narray([  0,   1,   4,   9,  16,  25,  36,  49,  64,  81, 100, 121, 144,\n       169, 196, 225, 256, 289, 324, 361, 400, 441, 484, 529, 576])>"
                    },
                    "metadata": {}
                }
            ],
            "execution_count": 10
        },
        {
            "cell_type": "markdown",
            "source": [
                "One feature of tensors is that they can be reshaped. When reshpaing, make sure you consider dimensions that will include all of the values of the tensor."
            ],
            "metadata": {
                "azdata_cell_guid": "d1be53d0-64c1-4501-be5a-75f94e702c26"
            }
        },
        {
            "cell_type": "code",
            "source": [
                "# Reshape tensor x into a 5 x 5 matrix. \n",
                "x = tf.reshape(x, (5, 5))\n",
                "x"
            ],
            "metadata": {
                "id": "7nzBSX8-L0Xt",
                "azdata_cell_guid": "cd262345-9e0a-4b00-8977-76db82213469",
                "language": "python"
            },
            "outputs": [
                {
                    "output_type": "execute_result",
                    "execution_count": 11,
                    "data": {
                        "text/plain": "<tf.Tensor: shape=(5, 5), dtype=int64, numpy=\narray([[  0,   1,   4,   9,  16],\n       [ 25,  36,  49,  64,  81],\n       [100, 121, 144, 169, 196],\n       [225, 256, 289, 324, 361],\n       [400, 441, 484, 529, 576]])>"
                    },
                    "metadata": {}
                }
            ],
            "execution_count": 11
        },
        {
            "cell_type": "markdown",
            "source": [
                "Notice that you'll get an error message if you choose a shape that cannot be exactly filled with the values of the given tensor.  \n",
                "* Run the cell below and look at the error message\n",
                "* Try to change the tuple that is passed to `shape` to avoid an error."
            ],
            "metadata": {
                "azdata_cell_guid": "0af842ed-62b3-4b2b-8dc4-6c6572ce100b"
            }
        },
        {
            "cell_type": "code",
            "source": [
                "# Try this and look at the error\n",
                "# Try to change the input to `shape` to avoid an error\n",
                "tmp = tf.constant([1,2,3,4])\n",
                "tf.reshape(tmp, shape=(2,3))"
            ],
            "metadata": {
                "azdata_cell_guid": "95aefdf7-9ac0-4d73-bafc-56db3b2eeb7f",
                "language": "python"
            },
            "outputs": [
                {
                    "output_type": "error",
                    "ename": "InvalidArgumentError",
                    "evalue": "Input to reshape is a tensor with 4 values, but the requested shape has 6 [Op:Reshape]",
                    "traceback": [
                        "\u001b[0;31m---------------------------------------------------------------------------\u001b[0m",
                        "\u001b[0;31mInvalidArgumentError\u001b[0m                      Traceback (most recent call last)",
                        "\u001b[0;32m<ipython-input-22-4a03bca24981>\u001b[0m in \u001b[0;36m<module>\u001b[0;34m\u001b[0m\n\u001b[1;32m      2\u001b[0m \u001b[0;31m# Try to change the input to `shape` to avoid an error\u001b[0m\u001b[0;34m\u001b[0m\u001b[0;34m\u001b[0m\u001b[0;34m\u001b[0m\u001b[0m\n\u001b[1;32m      3\u001b[0m \u001b[0mtmp\u001b[0m \u001b[0;34m=\u001b[0m \u001b[0mtf\u001b[0m\u001b[0;34m.\u001b[0m\u001b[0mconstant\u001b[0m\u001b[0;34m(\u001b[0m\u001b[0;34m[\u001b[0m\u001b[0;36m1\u001b[0m\u001b[0;34m,\u001b[0m\u001b[0;36m2\u001b[0m\u001b[0;34m,\u001b[0m\u001b[0;36m3\u001b[0m\u001b[0;34m,\u001b[0m\u001b[0;36m4\u001b[0m\u001b[0;34m]\u001b[0m\u001b[0;34m)\u001b[0m\u001b[0;34m\u001b[0m\u001b[0;34m\u001b[0m\u001b[0m\n\u001b[0;32m----> 4\u001b[0;31m \u001b[0mtf\u001b[0m\u001b[0;34m.\u001b[0m\u001b[0mreshape\u001b[0m\u001b[0;34m(\u001b[0m\u001b[0mtmp\u001b[0m\u001b[0;34m,\u001b[0m \u001b[0mshape\u001b[0m\u001b[0;34m=\u001b[0m\u001b[0;34m(\u001b[0m\u001b[0;36m2\u001b[0m\u001b[0;34m,\u001b[0m\u001b[0;36m3\u001b[0m\u001b[0;34m)\u001b[0m\u001b[0;34m)\u001b[0m\u001b[0;34m\u001b[0m\u001b[0;34m\u001b[0m\u001b[0m\n\u001b[0m",
                        "\u001b[0;32m/opt/conda/lib/python3.7/site-packages/tensorflow/python/util/dispatch.py\u001b[0m in \u001b[0;36mwrapper\u001b[0;34m(*args, **kwargs)\u001b[0m\n\u001b[1;32m    199\u001b[0m     \u001b[0;34m\"\"\"Call target, and fall back on dispatchers if there is a TypeError.\"\"\"\u001b[0m\u001b[0;34m\u001b[0m\u001b[0;34m\u001b[0m\u001b[0m\n\u001b[1;32m    200\u001b[0m     \u001b[0;32mtry\u001b[0m\u001b[0;34m:\u001b[0m\u001b[0;34m\u001b[0m\u001b[0;34m\u001b[0m\u001b[0m\n\u001b[0;32m--> 201\u001b[0;31m       \u001b[0;32mreturn\u001b[0m \u001b[0mtarget\u001b[0m\u001b[0;34m(\u001b[0m\u001b[0;34m*\u001b[0m\u001b[0margs\u001b[0m\u001b[0;34m,\u001b[0m \u001b[0;34m**\u001b[0m\u001b[0mkwargs\u001b[0m\u001b[0;34m)\u001b[0m\u001b[0;34m\u001b[0m\u001b[0;34m\u001b[0m\u001b[0m\n\u001b[0m\u001b[1;32m    202\u001b[0m     \u001b[0;32mexcept\u001b[0m \u001b[0;34m(\u001b[0m\u001b[0mTypeError\u001b[0m\u001b[0;34m,\u001b[0m \u001b[0mValueError\u001b[0m\u001b[0;34m)\u001b[0m\u001b[0;34m:\u001b[0m\u001b[0;34m\u001b[0m\u001b[0;34m\u001b[0m\u001b[0m\n\u001b[1;32m    203\u001b[0m       \u001b[0;31m# Note: convert_to_eager_tensor currently raises a ValueError, not a\u001b[0m\u001b[0;34m\u001b[0m\u001b[0;34m\u001b[0m\u001b[0;34m\u001b[0m\u001b[0m\n",
                        "\u001b[0;32m/opt/conda/lib/python3.7/site-packages/tensorflow/python/ops/array_ops.py\u001b[0m in \u001b[0;36mreshape\u001b[0;34m(tensor, shape, name)\u001b[0m\n\u001b[1;32m    193\u001b[0m     \u001b[0mA\u001b[0m\u001b[0;31m \u001b[0m\u001b[0;31m`\u001b[0m\u001b[0mTensor\u001b[0m\u001b[0;31m`\u001b[0m\u001b[0;34m.\u001b[0m \u001b[0mHas\u001b[0m \u001b[0mthe\u001b[0m \u001b[0msame\u001b[0m \u001b[0mtype\u001b[0m \u001b[0;32mas\u001b[0m\u001b[0;31m \u001b[0m\u001b[0;31m`\u001b[0m\u001b[0mtensor\u001b[0m\u001b[0;31m`\u001b[0m\u001b[0;34m.\u001b[0m\u001b[0;34m\u001b[0m\u001b[0;34m\u001b[0m\u001b[0m\n\u001b[1;32m    194\u001b[0m   \"\"\"\n\u001b[0;32m--> 195\u001b[0;31m   \u001b[0mresult\u001b[0m \u001b[0;34m=\u001b[0m \u001b[0mgen_array_ops\u001b[0m\u001b[0;34m.\u001b[0m\u001b[0mreshape\u001b[0m\u001b[0;34m(\u001b[0m\u001b[0mtensor\u001b[0m\u001b[0;34m,\u001b[0m \u001b[0mshape\u001b[0m\u001b[0;34m,\u001b[0m \u001b[0mname\u001b[0m\u001b[0;34m)\u001b[0m\u001b[0;34m\u001b[0m\u001b[0;34m\u001b[0m\u001b[0m\n\u001b[0m\u001b[1;32m    196\u001b[0m   \u001b[0mtensor_util\u001b[0m\u001b[0;34m.\u001b[0m\u001b[0mmaybe_set_static_shape\u001b[0m\u001b[0;34m(\u001b[0m\u001b[0mresult\u001b[0m\u001b[0;34m,\u001b[0m \u001b[0mshape\u001b[0m\u001b[0;34m)\u001b[0m\u001b[0;34m\u001b[0m\u001b[0;34m\u001b[0m\u001b[0m\n\u001b[1;32m    197\u001b[0m   \u001b[0;32mreturn\u001b[0m \u001b[0mresult\u001b[0m\u001b[0;34m\u001b[0m\u001b[0;34m\u001b[0m\u001b[0m\n",
                        "\u001b[0;32m/opt/conda/lib/python3.7/site-packages/tensorflow/python/ops/gen_array_ops.py\u001b[0m in \u001b[0;36mreshape\u001b[0;34m(tensor, shape, name)\u001b[0m\n\u001b[1;32m   8227\u001b[0m     \u001b[0;32mtry\u001b[0m\u001b[0;34m:\u001b[0m\u001b[0;34m\u001b[0m\u001b[0;34m\u001b[0m\u001b[0m\n\u001b[1;32m   8228\u001b[0m       return reshape_eager_fallback(\n\u001b[0;32m-> 8229\u001b[0;31m           tensor, shape, name=name, ctx=_ctx)\n\u001b[0m\u001b[1;32m   8230\u001b[0m     \u001b[0;32mexcept\u001b[0m \u001b[0m_core\u001b[0m\u001b[0;34m.\u001b[0m\u001b[0m_SymbolicException\u001b[0m\u001b[0;34m:\u001b[0m\u001b[0;34m\u001b[0m\u001b[0;34m\u001b[0m\u001b[0m\n\u001b[1;32m   8231\u001b[0m       \u001b[0;32mpass\u001b[0m  \u001b[0;31m# Add nodes to the TensorFlow graph.\u001b[0m\u001b[0;34m\u001b[0m\u001b[0;34m\u001b[0m\u001b[0m\n",
                        "\u001b[0;32m/opt/conda/lib/python3.7/site-packages/tensorflow/python/ops/gen_array_ops.py\u001b[0m in \u001b[0;36mreshape_eager_fallback\u001b[0;34m(tensor, shape, name, ctx)\u001b[0m\n\u001b[1;32m   8252\u001b[0m   \u001b[0m_attrs\u001b[0m \u001b[0;34m=\u001b[0m \u001b[0;34m(\u001b[0m\u001b[0;34m\"T\"\u001b[0m\u001b[0;34m,\u001b[0m \u001b[0m_attr_T\u001b[0m\u001b[0;34m,\u001b[0m \u001b[0;34m\"Tshape\"\u001b[0m\u001b[0;34m,\u001b[0m \u001b[0m_attr_Tshape\u001b[0m\u001b[0;34m)\u001b[0m\u001b[0;34m\u001b[0m\u001b[0;34m\u001b[0m\u001b[0m\n\u001b[1;32m   8253\u001b[0m   _result = _execute.execute(b\"Reshape\", 1, inputs=_inputs_flat, attrs=_attrs,\n\u001b[0;32m-> 8254\u001b[0;31m                              ctx=ctx, name=name)\n\u001b[0m\u001b[1;32m   8255\u001b[0m   \u001b[0;32mif\u001b[0m \u001b[0m_execute\u001b[0m\u001b[0;34m.\u001b[0m\u001b[0mmust_record_gradient\u001b[0m\u001b[0;34m(\u001b[0m\u001b[0;34m)\u001b[0m\u001b[0;34m:\u001b[0m\u001b[0;34m\u001b[0m\u001b[0;34m\u001b[0m\u001b[0m\n\u001b[1;32m   8256\u001b[0m     _execute.record_gradient(\n",
                        "\u001b[0;32m/opt/conda/lib/python3.7/site-packages/tensorflow/python/eager/execute.py\u001b[0m in \u001b[0;36mquick_execute\u001b[0;34m(op_name, num_outputs, inputs, attrs, ctx, name)\u001b[0m\n\u001b[1;32m     58\u001b[0m     \u001b[0mctx\u001b[0m\u001b[0;34m.\u001b[0m\u001b[0mensure_initialized\u001b[0m\u001b[0;34m(\u001b[0m\u001b[0;34m)\u001b[0m\u001b[0;34m\u001b[0m\u001b[0;34m\u001b[0m\u001b[0m\n\u001b[1;32m     59\u001b[0m     tensors = pywrap_tfe.TFE_Py_Execute(ctx._handle, device_name, op_name,\n\u001b[0;32m---> 60\u001b[0;31m                                         inputs, attrs, num_outputs)\n\u001b[0m\u001b[1;32m     61\u001b[0m   \u001b[0;32mexcept\u001b[0m \u001b[0mcore\u001b[0m\u001b[0;34m.\u001b[0m\u001b[0m_NotOkStatusException\u001b[0m \u001b[0;32mas\u001b[0m \u001b[0me\u001b[0m\u001b[0;34m:\u001b[0m\u001b[0;34m\u001b[0m\u001b[0;34m\u001b[0m\u001b[0m\n\u001b[1;32m     62\u001b[0m     \u001b[0;32mif\u001b[0m \u001b[0mname\u001b[0m \u001b[0;32mis\u001b[0m \u001b[0;32mnot\u001b[0m \u001b[0;32mNone\u001b[0m\u001b[0;34m:\u001b[0m\u001b[0;34m\u001b[0m\u001b[0;34m\u001b[0m\u001b[0m\n",
                        "\u001b[0;31mInvalidArgumentError\u001b[0m: Input to reshape is a tensor with 4 values, but the requested shape has 6 [Op:Reshape]"
                    ]
                }
            ],
            "execution_count": 22
        },
        {
            "cell_type": "markdown",
            "source": [
                "Like reshaping, you can also change the data type of the values within the tensor. Run the cell below to change the data type from `int` to `float`"
            ],
            "metadata": {
                "azdata_cell_guid": "e12ab1de-36a4-4d45-8625-648bc4f6c918"
            }
        },
        {
            "cell_type": "code",
            "source": [
                "# Cast tensor x into float32. Notice the change in the dtype.\n",
                "x = tf.cast(x, tf.float32)\n",
                "x"
            ],
            "metadata": {
                "id": "VoT-jiAIL8x5",
                "azdata_cell_guid": "70f8dab0-6bca-419f-83d8-1e827cd38f8e",
                "language": "python"
            },
            "outputs": [
                {
                    "output_type": "execute_result",
                    "execution_count": 23,
                    "data": {
                        "text/plain": "<tf.Tensor: shape=(5, 5), dtype=float32, numpy=\narray([[  0.,   1.,   4.,   9.,  16.],\n       [ 25.,  36.,  49.,  64.,  81.],\n       [100., 121., 144., 169., 196.],\n       [225., 256., 289., 324., 361.],\n       [400., 441., 484., 529., 576.]], dtype=float32)>"
                    },
                    "metadata": {}
                }
            ],
            "execution_count": 23
        },
        {
            "cell_type": "markdown",
            "source": [
                "Next, you'll create a single value float tensor by the help of which you'll see `broadcasting` in action"
            ],
            "metadata": {
                "azdata_cell_guid": "691d250f-2115-4059-b100-084db01885bb"
            }
        },
        {
            "cell_type": "code",
            "source": [
                "# Let's define a constant and see how broadcasting works in the following cell.\n",
                "y = tf.constant(2, dtype=tf.float32)\n",
                "y"
            ],
            "metadata": {
                "azdata_cell_guid": "468e6017-6c42-44f4-a727-84a737c2d942",
                "language": "python"
            },
            "outputs": [
                {
                    "output_type": "execute_result",
                    "execution_count": 24,
                    "data": {
                        "text/plain": "<tf.Tensor: shape=(), dtype=float32, numpy=2.0>"
                    },
                    "metadata": {}
                }
            ],
            "execution_count": 24
        },
        {
            "cell_type": "markdown",
            "source": [
                "Multiply the tensors `x` and `y` together, and notice how multiplication was done and its result."
            ],
            "metadata": {
                "azdata_cell_guid": "a580a1d8-8d7b-440d-967f-54f1ea01e2a5"
            }
        },
        {
            "cell_type": "code",
            "source": [
                "# Multiply tensor `x` and `y`. `y` is multiplied to each element of x.\n",
                "result = tf.multiply(x, y)\n",
                "result"
            ],
            "metadata": {
                "id": "ivepGtD5MKP5",
                "azdata_cell_guid": "c4509d88-9d87-4220-8fcf-ce24df47a33b",
                "language": "python"
            },
            "outputs": [
                {
                    "output_type": "execute_result",
                    "execution_count": 25,
                    "data": {
                        "text/plain": "<tf.Tensor: shape=(5, 5), dtype=float32, numpy=\narray([[   0.,    2.,    8.,   18.,   32.],\n       [  50.,   72.,   98.,  128.,  162.],\n       [ 200.,  242.,  288.,  338.,  392.],\n       [ 450.,  512.,  578.,  648.,  722.],\n       [ 800.,  882.,  968., 1058., 1152.]], dtype=float32)>"
                    },
                    "metadata": {}
                }
            ],
            "execution_count": 25
        },
        {
            "cell_type": "markdown",
            "source": [
                "Re-Initialize `y` to a tensor having more values."
            ],
            "metadata": {
                "azdata_cell_guid": "6af181d4-967d-4a58-9af7-703a98de40e4"
            }
        },
        {
            "cell_type": "code",
            "source": [
                "# Now let's define an array that matches the number of row elements in the `x` array.\n",
                "y = tf.constant([1, 2, 3, 4, 5], dtype=tf.float32)\n",
                "y"
            ],
            "metadata": {
                "id": "8wzZ5NcMMPzD",
                "azdata_cell_guid": "86fc29ac-1295-4132-b725-3939f87d2b7e",
                "language": "python"
            },
            "outputs": [
                {
                    "output_type": "execute_result",
                    "execution_count": 26,
                    "data": {
                        "text/plain": "<tf.Tensor: shape=(5,), dtype=float32, numpy=array([1., 2., 3., 4., 5.], dtype=float32)>"
                    },
                    "metadata": {}
                }
            ],
            "execution_count": 26
        },
        {
            "cell_type": "code",
            "source": [
                "# Let's see first the contents of `x` again.\n",
                "x"
            ],
            "metadata": {
                "azdata_cell_guid": "612a15e0-bba8-4b86-bf58-22517859e6ac",
                "language": "python"
            },
            "outputs": [
                {
                    "output_type": "execute_result",
                    "execution_count": 27,
                    "data": {
                        "text/plain": "<tf.Tensor: shape=(5, 5), dtype=float32, numpy=\narray([[  0.,   1.,   4.,   9.,  16.],\n       [ 25.,  36.,  49.,  64.,  81.],\n       [100., 121., 144., 169., 196.],\n       [225., 256., 289., 324., 361.],\n       [400., 441., 484., 529., 576.]], dtype=float32)>"
                    },
                    "metadata": {}
                }
            ],
            "execution_count": 27
        },
        {
            "cell_type": "markdown",
            "source": [
                "Add the tensors `x` and `y` together, and notice how addition was done and its result."
            ],
            "metadata": {
                "azdata_cell_guid": "cd6fa8bc-06e2-4155-806d-e75139d8c98d"
            }
        },
        {
            "cell_type": "code",
            "source": [
                "# Add tensor `x` and `y`. `y` is added element wise to each row of `x`.\n",
                "result = x + y\n",
                "result"
            ],
            "metadata": {
                "id": "BVlntdYnMboh",
                "azdata_cell_guid": "8450a078-8e0e-421f-af57-da51aea17737",
                "language": "python"
            },
            "outputs": [
                {
                    "output_type": "execute_result",
                    "execution_count": 28,
                    "data": {
                        "text/plain": "<tf.Tensor: shape=(5, 5), dtype=float32, numpy=\narray([[  1.,   3.,   7.,  13.,  21.],\n       [ 26.,  38.,  52.,  68.,  86.],\n       [101., 123., 147., 173., 201.],\n       [226., 258., 292., 328., 366.],\n       [401., 443., 487., 533., 581.]], dtype=float32)>"
                    },
                    "metadata": {}
                }
            ],
            "execution_count": 28
        },
        {
            "cell_type": "markdown",
            "source": [
                "### The shape parameter for tf.constant\n",
                "\n",
                "When using `tf.constant()`, you can pass in a 1D array (a vector) and set the `shape` parameter to turn this vector into a multi-dimensional array."
            ],
            "metadata": {
                "azdata_cell_guid": "0b886261-6546-4b97-ba6c-8dabcbee5c67"
            }
        },
        {
            "cell_type": "code",
            "source": [
                "tf.constant([1,2,3,4], shape=(2,2))"
            ],
            "metadata": {
                "azdata_cell_guid": "3cffa75f-5590-49fa-a315-5dc3bb7e8724",
                "language": "python"
            },
            "outputs": [
                {
                    "output_type": "execute_result",
                    "execution_count": 29,
                    "data": {
                        "text/plain": "<tf.Tensor: shape=(2, 2), dtype=int32, numpy=\narray([[1, 2],\n       [3, 4]], dtype=int32)>"
                    },
                    "metadata": {}
                }
            ],
            "execution_count": 29
        },
        {
            "cell_type": "markdown",
            "source": [
                "### The shape parameter for tf.Variable\n",
                "\n",
                "Note, however, that for `tf.Variable()`, the shape of the tensor is derived from the shape given by the input array.  Setting `shape` to something other than `None` will not reshape a 1D array into a multi-dimensional array, and will give a `ValueError`."
            ],
            "metadata": {
                "azdata_cell_guid": "7ae12e4a-4f66-4c5c-8951-5adf001abaf3"
            }
        },
        {
            "cell_type": "code",
            "source": [
                "try:\n",
                "    # This will produce a ValueError\n",
                "    tf.Variable([1,2,3,4], shape=(2,2))\n",
                "except ValueError as v:\n",
                "    # See what the ValueError says\n",
                "    print(v)"
            ],
            "metadata": {
                "azdata_cell_guid": "19265f18-a287-4842-9029-9abba00e5e8d",
                "language": "python"
            },
            "outputs": [
                {
                    "output_type": "stream",
                    "name": "stdout",
                    "text": "The initial value's shape ((4,)) is not compatible with the explicitly supplied `shape` argument ((2, 2)).\n"
                }
            ],
            "execution_count": 30
        },
        {
            "cell_type": "code",
            "source": [],
            "metadata": {
                "azdata_cell_guid": "92f29c3e-d6ba-43dc-81d9-9cd586b1b394",
                "language": "python"
            },
            "outputs": [],
            "execution_count": null
        }
    ]
}